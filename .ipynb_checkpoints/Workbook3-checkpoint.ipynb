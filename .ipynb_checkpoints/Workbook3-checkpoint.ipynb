{
 "cells": [
  {
   "cell_type": "markdown",
   "metadata": {},
   "source": [
    "# MA934 Numerical Methods - Workbook 3\n",
    "\n",
    "If you haven't already done so, install the DualNumbers Julia package. It is a good idea to update all your packages first. The commands are\n",
    "\n",
    ">Pkg.update()\n",
    "\n",
    ">Pkg.add(\"DualNumbers\")\n",
    "\n",
    "but you only need to run them once. "
   ]
  },
  {
   "cell_type": "code",
   "execution_count": 13,
   "metadata": {},
   "outputs": [
    {
     "name": "stdout",
     "output_type": "stream",
     "text": [
      "\u001b[32m\u001b[1m  Updating\u001b[22m\u001b[39m registry at `~/.julia/registries/General`\n",
      "\u001b[32m\u001b[1m  Updating\u001b[22m\u001b[39m git-repo `https://github.com/JuliaRegistries/General.git`\n",
      "\u001b[2K\u001b[?25h[1mFetching:\u001b[22m\u001b[39m [========================================>]  100.0 %.0 %\u001b[32m\u001b[1m Resolving\u001b[22m\u001b[39m package versions...\n",
      "\u001b[32m\u001b[1m  Updating\u001b[22m\u001b[39m `~/.julia/environments/v1.0/Project.toml`\n",
      "\u001b[90m [no changes]\u001b[39m\n",
      "\u001b[32m\u001b[1m  Updating\u001b[22m\u001b[39m `~/.julia/environments/v1.0/Manifest.toml`\n",
      "\u001b[90m [no changes]\u001b[39m\n",
      "\u001b[32m\u001b[1m Resolving\u001b[22m\u001b[39m package versions...\n",
      "\u001b[32m\u001b[1m  Updating\u001b[22m\u001b[39m `~/.julia/environments/v1.0/Project.toml`\n",
      "\u001b[90m [no changes]\u001b[39m\n",
      "\u001b[32m\u001b[1m  Updating\u001b[22m\u001b[39m `~/.julia/environments/v1.0/Manifest.toml`\n",
      "\u001b[90m [no changes]\u001b[39m\n",
      "Packages added\n"
     ]
    }
   ],
   "source": [
    "using Pkg\n",
    "Pkg.update()\n",
    "Pkg.add(\"DualNumbers\")\n",
    "using Plots\n",
    "using DualNumbers\n",
    "pyplot()\n",
    "println(\"Packages added\")"
   ]
  },
  {
   "cell_type": "markdown",
   "metadata": {},
   "source": [
    "## Question 1: Numerical differentiation\n",
    "\n",
    "**1))** Derive a finite difference formula for the derivative of a function, $f$ at a point $x$ using the 3-point stencil $(x, x+h, x+2h)$ and state the order of the approximation error in terms of $h$.\n",
    "\n",
    "**2)** Write a formula for the derivative, $f^\\prime(x)$, of the function\n",
    "\n",
    "$$f(x) = \\sin(\\exp(x)) $$\n",
    "\n",
    "and evaluate it at $x=1$.\n",
    "\n",
    "**3)** Use your finite difference formula to approximate the value of $f^\\prime(1)$ for values of $h$ decreasing from $2^{-1}$ to $2^{-30}$ in powers of $2$. Plot the error as a function of $h$ and verify the theoretically predicted scaling of the error with $h$. What is the best relative error you can achieve?\n",
    "\n",
    "**4)** Read the examples at https://github.com/JuliaDiff/DualNumbers.jl. Define a dual number $x = 1+\\epsilon$ and use it to evaluate $f^\\prime(1)$. Verify that the answer is accurate to within machine precision."
   ]
  },
  {
   "cell_type": "markdown",
   "metadata": {},
   "source": [
    "### Solution to 1.1 - 3 point stencil\n",
    "\n",
    "Taylor expand up to $f''(x)$\n",
    "\n",
    "$$f(x+h) = f(x) + hf'(h) + \\frac{h^2}{2}f''(x) + O(h^3)$$\n",
    "\n",
    "$$f(x+2h) = f(x) + 2hf'(h) + 2h^2f''(x) + 8O(h^3)$$\n",
    "\n",
    "Multiply first equation by 4 and subtract second equation:\n",
    "\n",
    "$$4f(x+h) - f(x+2h) = 3f(x) + 2f'(x)h -4O(h^3)$$\n",
    "\n",
    "$$f'(x) = \\dfrac{-3f(x) + 4f(x+h) -f(x+2h)}{h} + O(h^2)$$\n",
    "\n",
    "\n"
   ]
  },
  {
   "cell_type": "markdown",
   "metadata": {
    "collapsed": true
   },
   "source": [
    "## Solution to 1.2\n",
    "\n",
    "By the chain rule \n",
    "\n",
    "$$f'(sin(e^x)) = e^xcos(e^x)$$\n",
    "\n",
    "$$f'(1) = -2.478$$"
   ]
  },
  {
   "cell_type": "code",
   "execution_count": 44,
   "metadata": {},
   "outputs": [
    {
     "data": {
      "image/png": "[encoded data removed]"
     },
     "execution_count": 44,
     "metadata": {},
     "output_type": "execute_result"
    }
   ],
   "source": [
    "## Solution to 1.3\n",
    "\n",
    "function approximate_derivative(h)\n",
    "    \n",
    "    f_1 = sin(exp(1))\n",
    "    f_1_h = sin(exp(1+h))\n",
    "    f_2_h = sin(exp(1+2*h))\n",
    "    return (-f_2_h + 4*f_1_h -3*f_1)/(2*h)\n",
    "end\n",
    "\n",
    "\n",
    "function plot_values()\n",
    "    \n",
    "    term_count = 30\n",
    "    hs = zeros(term_count)\n",
    "    results = zeros(term_count)\n",
    "    errors = zeros(term_count)\n",
    "    \n",
    "    for i=1:30\n",
    "        h = 2.0^-i\n",
    "        hs[i] = h\n",
    "        results[i] = approximate_derivative(h)\n",
    "    end\n",
    "    \n",
    "    errors = abs.(results .- exp(1)*cos(exp(1)))\n",
    "    \n",
    "    scatter(hs, errors, yscale=:log10, xscale=:log10, xlabel=\"h\", ylabel=\"error\", label=\"finite difference error\")\n",
    "     \n",
    "end\n",
    "\n",
    "plot_values()\n"
   ]
  },
  {
   "cell_type": "code",
   "execution_count": 53,
   "metadata": {},
   "outputs": [
    {
     "name": "stdout",
     "output_type": "stream",
     "text": [
      "-2.478349732955235\n",
      "0.0\n"
     ]
    }
   ],
   "source": [
    "## Solution to 1.4\n",
    "\n",
    "dual_x = Dual(1,1)\n",
    "\n",
    "\n",
    "f(x) = sin(exp(x))\n",
    "\n",
    "y = f(dual_x)\n",
    "\n",
    "# Print differential of x\n",
    "println(dualpart(y))\n",
    "\n",
    "# Within machine precision if these are equal, evaluations to zero\n",
    "println(dualpart(y) - exp(1)*cos(exp(1)))"
   ]
  },
  {
   "cell_type": "markdown",
   "metadata": {},
   "source": [
    "## Question 2: Finding roots\n",
    "\n",
    "**1)** Referring to the function, $f(x)$, defined above, find the roots of the equation\n",
    "\n",
    "$$ f(x) = 0$$\n",
    "\n",
    "in the interval $0<x<2$.\n",
    "\n",
    "**2)** Implement the bracketing and bisection method to find one of the roots numerically. Measure the error at each iteration of the algorithm and demonstrate that the error decreases exponentially as a function of the number of iterations. To how many digits of precision can you approximate the root?\n",
    "\n",
    "**3)** Perform the same measurements for the Newton Raphson method and show that the error decreases faster than exponentially as a function of the number of iterations."
   ]
  },
  {
   "cell_type": "markdown",
   "metadata": {},
   "source": [
    "### Solution to 2.1\n",
    "\n",
    "$$ sin(e^x) == 0$$\n",
    "\n",
    "$$ x = ln(k \\pi) \\quad \\forall k\\in [0,1,2,...]$$\n",
    "\n",
    "In the interval $0 < x < 2$\n",
    "\n",
    "$$ x= 1.145 \\, , \\, x = 1.837 $$\n"
   ]
  },
  {
   "cell_type": "code",
   "execution_count": 18,
   "metadata": {},
   "outputs": [
    {
     "data": {
      "image/png": "[encoded data removed]"
     },
     "execution_count": 18,
     "metadata": {},
     "output_type": "execute_result"
    }
   ],
   "source": [
    "# Solution to 1.3 \n",
    "function bracket_and_bisect(a,b)\n",
    "    \n",
    "    f_a = sin(exp(a))\n",
    "    f_b = sin(exp(b))\n",
    "    \n",
    "    if f_a * f_b > 0\n",
    "        println(\"Not a valid bracket\")\n",
    "        return Nothing()\n",
    "    end\n",
    "    \n",
    "    errors = Float64[]\n",
    "    \n",
    "    while abs(b-a) > 0.00000001\n",
    "        append!(errors, abs(b-a))\n",
    "        \n",
    "        c = (b+a)/2\n",
    "        f_c = sin(exp(c))\n",
    "        \n",
    "        if f_a * f_c < 0\n",
    "            a,b = a,c\n",
    "            f_a, f_b = f_a, f_c \n",
    "        else\n",
    "            a,b = c,b\n",
    "            f_a,f_b = f_c,f_b\n",
    "        end\n",
    "    end\n",
    "    \n",
    "    scatter(1:length(errors), errors, yscale=:log10, xlabel=\"Iteration\", ylabel=\"Error\", title=\"Bracked and bisection root finding\")\n",
    "    \n",
    "end\n",
    "\n",
    "bracket_and_bisect(1.3,1.9)"
   ]
  },
  {
   "cell_type": "code",
   "execution_count": null,
   "metadata": {},
   "outputs": [],
   "source": [
    "# Solution to 2.3\n",
    "\n",
    "function newton_rhapson(x0)\n",
    "    \n",
    "    f_0 = sin(exp(x0))\n",
    "end\n"
   ]
  },
  {
   "cell_type": "markdown",
   "metadata": {},
   "source": [
    "## Question 3: Finding minima\n",
    "\n",
    "**1)** The function $f(x)$ above has a single minimum in the interval $0<x<2$. Find its location analytically.\n",
    "\n",
    "**2)** Implement the Golden section search to find the location of this minimum numerically. Plot the error as a function of the number of iterations. To how many digits of precision can you approximate the location of the minimum?\n",
    "\n",
    "**3)** To understand your empirical findings, use Taylor's Theorem to show that near a minimum, $x_*$, of f(x),\n",
    "\n",
    "$$f(x) \\approx f(x_*)\\left( 1+ \\frac{f^{\\prime\\prime}(x_*)}{2\\,f(x_*)}\\,(x-x_*)^2\\right). $$\n",
    "Show that in order for a computer to distinguish between $f(x)$ and $f(x_*)$ we must have\n",
    "\n",
    "$$ \\left| x-x_*\\right| > \\sqrt{\\epsilon_m}\\,\\sqrt{\\left|\\frac{2\\,f(x_*)}{f^{\\prime\\prime}(x_*)}\\right|}$$\n",
    "\n",
    "thus limiting the precision with which the location of a minimum can be determined."
   ]
  },
  {
   "cell_type": "code",
   "execution_count": null,
   "metadata": {
    "collapsed": true
   },
   "outputs": [],
   "source": []
  },
  {
   "cell_type": "code",
   "execution_count": null,
   "metadata": {
    "collapsed": true
   },
   "outputs": [],
   "source": []
  }
 ],
 "metadata": {
  "kernelspec": {
   "display_name": "Julia 1.0.0",
   "language": "julia",
   "name": "julia-1.0"
  },
  "language_info": {
   "file_extension": ".jl",
   "mimetype": "application/julia",
   "name": "julia",
   "version": "1.0.0"
  }
 },
 "nbformat": 4,
 "nbformat_minor": 1
}
