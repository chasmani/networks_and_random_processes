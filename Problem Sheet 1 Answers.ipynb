{
 "cells": [
  {
   "cell_type": "markdown",
   "metadata": {},
   "source": [
    "# Problem Sheet 1"
   ]
  },
  {
   "cell_type": "markdown",
   "metadata": {},
   "source": [
    "## 1.1 Simple Random Walk"
   ]
  },
  {
   "cell_type": "markdown",
   "metadata": {},
   "source": [
    "### a\n",
    "\n",
    "Simple Random Walk on ${1,...,L}$ with probabilities $p \\in [0,1]$ and $q = 1-p$ to jump right and left respectively. \n",
    "\n",
    "#### Case 1 - Periodic\n",
    "\n",
    "Transition matrix:\n",
    "\n",
    "\n",
    "\n",
    "$P = \\begin{bmatrix}\n",
    "    0 & p & 0 & \\dots  & 0 & q \\\\\n",
    "    q & 0 & p & \\dots  & 0 & 0\\\\\n",
    "    0 & q & 0 & \\dots  & 0 & 0\\\\\n",
    "    \\vdots & \\vdots & \\vdots & \\ddots & \\vdots \\\\\n",
    "    p & 0 & 0 & \\dots & q & 0\n",
    "\\end{bmatrix}$\n",
    "\n",
    "The process is irreducible, i.e. every state can, eventually, reach every other state. \n",
    "\n",
    "The states can be laid out on a circle, and are symmetrical, so there is a stationary distribution where all states have equal probabilities. \n",
    "\n",
    "$\\pi = (1,1,...,1)$\n",
    "\n",
    "And normalised:\n",
    "\n",
    "$\\pi = (1/L, 1/L,..., 1/L)$\n",
    "\n",
    "This is the only stationary distribution, and is the same for all $p \\in (0,1)$ \n",
    "\n",
    "The stationary distribution is reversible, as $p(x,y) = p(y,x) = 1/L$ for all x,y.\n",
    "\n",
    "#### Case 2 - Closed\n",
    "\n",
    "Transition matrix:\n",
    "\n",
    "\n",
    "\n",
    "\n",
    "\n",
    "\n"
   ]
  },
  {
   "cell_type": "code",
   "execution_count": null,
   "metadata": {},
   "outputs": [],
   "source": []
  }
 ],
 "metadata": {
  "kernelspec": {
   "display_name": "Python 3",
   "language": "python",
   "name": "python3"
  },
  "language_info": {
   "codemirror_mode": {
    "name": "ipython",
    "version": 3
   },
   "file_extension": ".py",
   "mimetype": "text/x-python",
   "name": "python",
   "nbconvert_exporter": "python",
   "pygments_lexer": "ipython3",
   "version": "3.6.5"
  }
 },
 "nbformat": 4,
 "nbformat_minor": 2
}
